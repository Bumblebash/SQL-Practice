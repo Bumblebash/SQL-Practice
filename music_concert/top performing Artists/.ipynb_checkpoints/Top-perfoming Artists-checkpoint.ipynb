{
 "cells": [
  {
   "cell_type": "markdown",
   "id": "abbb2833-6449-470e-a70d-40ad24d9195a",
   "metadata": {},
   "source": [
    "## Objectives and Project Plan\n",
    "- **Objective:**  Visualize Top Earning/Perfoming Artists per music Genre\n",
    "  ## Project Plan \n",
    "  1. Import Inportant Libraries(pyodbc, pandas, matplotlib, seaborn)\n",
    "  2. Connection to SQL Server Database\n",
    "  3. Run Query and Read Artists Data into Data Frame\n",
    "  4. Inspection  of Data\n",
    "  5. Visualization of Trends (Top Earners/Performers)\n",
    "  6. Locating Image of Visuals\n"
   ]
  },
  {
   "cell_type": "markdown",
   "id": "de6584f7-37cd-4651-b9c3-49a05f8cec3b",
   "metadata": {},
   "source": [
    "### 1. Import Important Libraries "
   ]
  },
  {
   "cell_type": "code",
   "execution_count": 6,
   "id": "051ae52b-f33b-4300-b535-98e8ad40ed1d",
   "metadata": {},
   "outputs": [
    {
     "name": "stdout",
     "output_type": "stream",
     "text": [
      "Requirement already satisfied: pyodbc in c:\\users\\user\\appdata\\local\\programs\\python\\python312\\lib\\site-packages (5.2.0)\n",
      "Note: you may need to restart the kernel to use updated packages.\n"
     ]
    }
   ],
   "source": [
    "pip install pyodbc"
   ]
  },
  {
   "cell_type": "code",
   "execution_count": 17,
   "id": "9bd7ab6c-da45-4ca9-a490-7a80dad87b97",
   "metadata": {},
   "outputs": [
    {
     "name": "stdout",
     "output_type": "stream",
     "text": [
      "Requirement already satisfied: pip in c:\\users\\user\\appdata\\local\\programs\\python\\python312\\lib\\site-packages (25.2)\n",
      "Collecting pip\n",
      "  Downloading pip-25.3-py3-none-any.whl.metadata (4.7 kB)\n",
      "Downloading pip-25.3-py3-none-any.whl (1.8 MB)\n",
      "   ---------------------------------------- 0.0/1.8 MB ? eta -:--:--\n",
      "   ---------------------------------------- 0.0/1.8 MB ? eta -:--:--\n",
      "   ----- ---------------------------------- 0.3/1.8 MB ? eta -:--:--\n",
      "   ----------- ---------------------------- 0.5/1.8 MB 1.3 MB/s eta 0:00:01\n",
      "   ----------------------------- ---------- 1.3/1.8 MB 2.6 MB/s eta 0:00:01\n",
      "   ---------------------------------------- 1.8/1.8 MB 2.9 MB/s  0:00:00\n",
      "Installing collected packages: pip\n",
      "  Attempting uninstall: pip\n",
      "    Found existing installation: pip 25.2\n",
      "    Uninstalling pip-25.2:\n",
      "      Successfully uninstalled pip-25.2\n",
      "Successfully installed pip-25.3\n",
      "Note: you may need to restart the kernel to use updated packages.\n"
     ]
    }
   ],
   "source": [
    " pip install --upgrade pip"
   ]
  },
  {
   "cell_type": "code",
   "execution_count": 4,
   "id": "71c30512-8c71-40f0-9dd9-095162616347",
   "metadata": {},
   "outputs": [],
   "source": [
    "import pandas as pd\n",
    "import matplotlib.pyplot as plt\n",
    "import seaborn as sns\n",
    "import pyodbc"
   ]
  },
  {
   "cell_type": "markdown",
   "id": "91ca54e2-568c-45dd-8420-020d5dc53781",
   "metadata": {},
   "source": [
    "### 2. Connect to SQL Server DB"
   ]
  },
  {
   "cell_type": "code",
   "execution_count": 12,
   "id": "4c9ac5a8-050e-4a0e-b1a0-77c3921f43f3",
   "metadata": {},
   "outputs": [],
   "source": [
    "#Define Connection Parameter\n",
    "server = 'DESKTOP-U507UFU'\n",
    "database = 'PRACTICE'\n",
    "\n",
    "#Create a Connection string (Trusted Windows Authentication)\n",
    "conn_str = (\n",
    "    \"Driver={SQL Server};\"\n",
    "    f\"Server={server};\"\n",
    "    f\"Database={database};\"\n",
    "    \"Trusted_Connection=yes;\"   \n",
    ")\n",
    "#Establish the Connection\n",
    "conn = pyodbc.connect(conn_str)\n"
   ]
  },
  {
   "cell_type": "markdown",
   "id": "bc08649e-9547-46cb-b958-4ab56009b0e6",
   "metadata": {},
   "source": [
    "###  3. Run Query and Read Artists Data Into Data Frame"
   ]
  },
  {
   "cell_type": "code",
   "execution_count": 14,
   "id": "94d7338d-a3fe-4cd5-9522-5b65251906c4",
   "metadata": {},
   "outputs": [
    {
     "name": "stderr",
     "output_type": "stream",
     "text": [
      "C:\\Users\\User\\AppData\\Local\\Temp\\ipykernel_1908\\2417789971.py:28: UserWarning: pandas only supports SQLAlchemy connectable (engine/connection) or database string URI or sqlite3 DBAPI2 connection. Other DBAPI2 objects are not tested. Please consider using SQLAlchemy.\n",
      "  df = pd.read_sql(query, conn)\n"
     ]
    }
   ],
   "source": [
    "query = \"\"\"\n",
    "\n",
    "WITH ranked_concerts_cte AS (\n",
    "    SELECT \n",
    "    artist_name,\n",
    "    concert_revenue,\n",
    "    genre,\n",
    "    number_of_members,\n",
    "    CAST(concert_revenue/ number_of_members AS FLOAT) AS revenue_per_member,\n",
    "    RANK()OVER(\n",
    "           PARTITION BY genre\n",
    "           ORDER BY (concert_revenue/ number_of_members) DESC)\n",
    "           AS ranked_artists\n",
    "   FROM concerts  \n",
    "    )\n",
    "\n",
    "\n",
    "SELECT \n",
    "    artist_name,\n",
    "    genre,\n",
    "    number_of_members,\n",
    "    revenue_per_member\n",
    "FROM ranked_concerts_cte\n",
    "WHERE ranked_artists = 1\n",
    "ORDER BY revenue_per_member DESC;\n",
    "\n",
    "\"\"\"\n",
    "df = pd.read_sql(query, conn)\n",
    "conn.close()"
   ]
  },
  {
   "cell_type": "markdown",
   "id": "e6d62c49-a718-4b09-a08d-89a7f46b6451",
   "metadata": {},
   "source": [
    "### 4.  Inspection of Our Data"
   ]
  },
  {
   "cell_type": "code",
   "execution_count": 15,
   "id": "753b1966-de72-4bbd-ae94-07231c2d868d",
   "metadata": {},
   "outputs": [
    {
     "data": {
      "text/html": [
       "<div>\n",
       "<style scoped>\n",
       "    .dataframe tbody tr th:only-of-type {\n",
       "        vertical-align: middle;\n",
       "    }\n",
       "\n",
       "    .dataframe tbody tr th {\n",
       "        vertical-align: top;\n",
       "    }\n",
       "\n",
       "    .dataframe thead th {\n",
       "        text-align: right;\n",
       "    }\n",
       "</style>\n",
       "<table border=\"1\" class=\"dataframe\">\n",
       "  <thead>\n",
       "    <tr style=\"text-align: right;\">\n",
       "      <th></th>\n",
       "      <th>artist_name</th>\n",
       "      <th>genre</th>\n",
       "      <th>number_of_members</th>\n",
       "      <th>revenue_per_member</th>\n",
       "    </tr>\n",
       "  </thead>\n",
       "  <tbody>\n",
       "    <tr>\n",
       "      <th>0</th>\n",
       "      <td>The Weeknd</td>\n",
       "      <td>R&amp;B/Pop</td>\n",
       "      <td>1</td>\n",
       "      <td>890812.8100</td>\n",
       "    </tr>\n",
       "    <tr>\n",
       "      <th>1</th>\n",
       "      <td>Ariana Grande</td>\n",
       "      <td>Pop</td>\n",
       "      <td>1</td>\n",
       "      <td>881544.5400</td>\n",
       "    </tr>\n",
       "    <tr>\n",
       "      <th>2</th>\n",
       "      <td>Eminem</td>\n",
       "      <td>Hip-Hop</td>\n",
       "      <td>1</td>\n",
       "      <td>654919.0100</td>\n",
       "    </tr>\n",
       "    <tr>\n",
       "      <th>3</th>\n",
       "      <td>Beyonce</td>\n",
       "      <td>R&amp;B</td>\n",
       "      <td>1</td>\n",
       "      <td>638938.1200</td>\n",
       "    </tr>\n",
       "    <tr>\n",
       "      <th>4</th>\n",
       "      <td>Blackpink</td>\n",
       "      <td>K-Pop</td>\n",
       "      <td>4</td>\n",
       "      <td>221804.9325</td>\n",
       "    </tr>\n",
       "  </tbody>\n",
       "</table>\n",
       "</div>"
      ],
      "text/plain": [
       "     artist_name    genre number_of_members  revenue_per_member\n",
       "0     The Weeknd  R&B/Pop                 1         890812.8100\n",
       "1  Ariana Grande      Pop                 1         881544.5400\n",
       "2         Eminem  Hip-Hop                 1         654919.0100\n",
       "3        Beyonce      R&B                 1         638938.1200\n",
       "4      Blackpink    K-Pop                 4         221804.9325"
      ]
     },
     "execution_count": 15,
     "metadata": {},
     "output_type": "execute_result"
    }
   ],
   "source": [
    "df.head()"
   ]
  },
  {
   "cell_type": "code",
   "execution_count": 16,
   "id": "90e2791c-f392-4a8a-8de1-e4370a87c0fa",
   "metadata": {},
   "outputs": [
    {
     "name": "stdout",
     "output_type": "stream",
     "text": [
      "<class 'pandas.core.frame.DataFrame'>\n",
      "RangeIndex: 5 entries, 0 to 4\n",
      "Data columns (total 4 columns):\n",
      " #   Column              Non-Null Count  Dtype  \n",
      "---  ------              --------------  -----  \n",
      " 0   artist_name         5 non-null      object \n",
      " 1   genre               5 non-null      object \n",
      " 2   number_of_members   5 non-null      object \n",
      " 3   revenue_per_member  5 non-null      float64\n",
      "dtypes: float64(1), object(3)\n",
      "memory usage: 292.0+ bytes\n"
     ]
    }
   ],
   "source": [
    "df.info()"
   ]
  },
  {
   "cell_type": "code",
   "execution_count": 17,
   "id": "76f4f1fe-9791-42a3-ab84-c779d6e144a8",
   "metadata": {},
   "outputs": [
    {
     "data": {
      "text/plain": [
       "(5, 4)"
      ]
     },
     "execution_count": 17,
     "metadata": {},
     "output_type": "execute_result"
    }
   ],
   "source": [
    "df.shape"
   ]
  },
  {
   "cell_type": "code",
   "execution_count": 18,
   "id": "67b51075-8d79-489d-99e7-3b81640e7fa1",
   "metadata": {},
   "outputs": [
    {
     "data": {
      "text/html": [
       "<div>\n",
       "<style scoped>\n",
       "    .dataframe tbody tr th:only-of-type {\n",
       "        vertical-align: middle;\n",
       "    }\n",
       "\n",
       "    .dataframe tbody tr th {\n",
       "        vertical-align: top;\n",
       "    }\n",
       "\n",
       "    .dataframe thead th {\n",
       "        text-align: right;\n",
       "    }\n",
       "</style>\n",
       "<table border=\"1\" class=\"dataframe\">\n",
       "  <thead>\n",
       "    <tr style=\"text-align: right;\">\n",
       "      <th></th>\n",
       "      <th>revenue_per_member</th>\n",
       "    </tr>\n",
       "  </thead>\n",
       "  <tbody>\n",
       "    <tr>\n",
       "      <th>count</th>\n",
       "      <td>5.000000</td>\n",
       "    </tr>\n",
       "    <tr>\n",
       "      <th>mean</th>\n",
       "      <td>657603.882500</td>\n",
       "    </tr>\n",
       "    <tr>\n",
       "      <th>std</th>\n",
       "      <td>271483.040906</td>\n",
       "    </tr>\n",
       "    <tr>\n",
       "      <th>min</th>\n",
       "      <td>221804.932500</td>\n",
       "    </tr>\n",
       "    <tr>\n",
       "      <th>25%</th>\n",
       "      <td>638938.120000</td>\n",
       "    </tr>\n",
       "    <tr>\n",
       "      <th>50%</th>\n",
       "      <td>654919.010000</td>\n",
       "    </tr>\n",
       "    <tr>\n",
       "      <th>75%</th>\n",
       "      <td>881544.540000</td>\n",
       "    </tr>\n",
       "    <tr>\n",
       "      <th>max</th>\n",
       "      <td>890812.810000</td>\n",
       "    </tr>\n",
       "  </tbody>\n",
       "</table>\n",
       "</div>"
      ],
      "text/plain": [
       "       revenue_per_member\n",
       "count            5.000000\n",
       "mean        657603.882500\n",
       "std         271483.040906\n",
       "min         221804.932500\n",
       "25%         638938.120000\n",
       "50%         654919.010000\n",
       "75%         881544.540000\n",
       "max         890812.810000"
      ]
     },
     "execution_count": 18,
     "metadata": {},
     "output_type": "execute_result"
    }
   ],
   "source": [
    "df.describe()"
   ]
  },
  {
   "cell_type": "code",
   "execution_count": 19,
   "id": "acb8c6ff-580e-42d6-8e9d-21570add8aa0",
   "metadata": {
    "scrolled": true
   },
   "outputs": [
    {
     "data": {
      "text/html": [
       "<div>\n",
       "<style scoped>\n",
       "    .dataframe tbody tr th:only-of-type {\n",
       "        vertical-align: middle;\n",
       "    }\n",
       "\n",
       "    .dataframe tbody tr th {\n",
       "        vertical-align: top;\n",
       "    }\n",
       "\n",
       "    .dataframe thead th {\n",
       "        text-align: right;\n",
       "    }\n",
       "</style>\n",
       "<table border=\"1\" class=\"dataframe\">\n",
       "  <thead>\n",
       "    <tr style=\"text-align: right;\">\n",
       "      <th></th>\n",
       "      <th>artist_name</th>\n",
       "      <th>genre</th>\n",
       "      <th>number_of_members</th>\n",
       "      <th>revenue_per_member</th>\n",
       "    </tr>\n",
       "  </thead>\n",
       "  <tbody>\n",
       "    <tr>\n",
       "      <th>0</th>\n",
       "      <td>The Weeknd</td>\n",
       "      <td>R&amp;B/Pop</td>\n",
       "      <td>1</td>\n",
       "      <td>890812.8100</td>\n",
       "    </tr>\n",
       "    <tr>\n",
       "      <th>1</th>\n",
       "      <td>Ariana Grande</td>\n",
       "      <td>Pop</td>\n",
       "      <td>1</td>\n",
       "      <td>881544.5400</td>\n",
       "    </tr>\n",
       "    <tr>\n",
       "      <th>2</th>\n",
       "      <td>Eminem</td>\n",
       "      <td>Hip-Hop</td>\n",
       "      <td>1</td>\n",
       "      <td>654919.0100</td>\n",
       "    </tr>\n",
       "    <tr>\n",
       "      <th>3</th>\n",
       "      <td>Beyonce</td>\n",
       "      <td>R&amp;B</td>\n",
       "      <td>1</td>\n",
       "      <td>638938.1200</td>\n",
       "    </tr>\n",
       "    <tr>\n",
       "      <th>4</th>\n",
       "      <td>Blackpink</td>\n",
       "      <td>K-Pop</td>\n",
       "      <td>4</td>\n",
       "      <td>221804.9325</td>\n",
       "    </tr>\n",
       "  </tbody>\n",
       "</table>\n",
       "</div>"
      ],
      "text/plain": [
       "     artist_name    genre number_of_members  revenue_per_member\n",
       "0     The Weeknd  R&B/Pop                 1         890812.8100\n",
       "1  Ariana Grande      Pop                 1         881544.5400\n",
       "2         Eminem  Hip-Hop                 1         654919.0100\n",
       "3        Beyonce      R&B                 1         638938.1200\n",
       "4      Blackpink    K-Pop                 4         221804.9325"
      ]
     },
     "execution_count": 19,
     "metadata": {},
     "output_type": "execute_result"
    }
   ],
   "source": [
    "df.head()"
   ]
  },
  {
   "cell_type": "markdown",
   "id": "fd7c380e-e768-4356-b718-caae92412dd0",
   "metadata": {},
   "source": [
    "### 5. Visualization of Trends (Top Perfomers per Genre )"
   ]
  },
  {
   "cell_type": "code",
   "execution_count": 86,
   "id": "9e2ee9e4-528e-4821-96c5-39eea6709d6c",
   "metadata": {},
   "outputs": [
    {
     "data": {
      "image/png": "[encoded data removed]",
      "text/plain": [
       "<Figure size 1000x600 with 1 Axes>"
      ]
     },
     "metadata": {},
     "output_type": "display_data"
    }
   ],
   "source": [
    "# Step 1: Strip whitespace from column names\n",
    "df.columns = df.columns.str.strip()\n",
    "\n",
    "# Step 2: Sort by revenue per member\n",
    "Top_perfomers = df.sort_values(by='revenue_per_member', ascending=False)\n",
    "\n",
    "# Step 3: Create bar chart with genre as hue\n",
    "plt.figure(figsize=(10,6))\n",
    "sns.barplot(\n",
    "    data=Top_perfomers,\n",
    "    x='artist_name',\n",
    "    y='revenue_per_member',\n",
    "    hue='genre',  # For  genre-based color coding\n",
    "    dodge=False,  # Keeps bars stacked by artist\n",
    "    palette='Dark2' \n",
    ")\n",
    "\n",
    "# Step 4: Customize the plot\n",
    "plt.title(\"Top Performing Artists by Genre\", fontsize=14, fontweight='bold')\n",
    "plt.xlabel(\"Artist Name\", fontsize =13, fontweight = 'bold')\n",
    "plt.ylabel(\"Revenue Per Member ($)\", fontsize = 13, fontweight='bold')\n",
    "plt.xticks(fontsize=11) \n",
    "plt.legend(title='Genre')\n",
    "plt.tight_layout()\n",
    "plt.savefig(\"Top_Perfoming_Artist.png\", dpi=300, bbox_inches = 'tight')\n",
    "plt.show()\n"
   ]
  },
  {
   "cell_type": "markdown",
   "id": "ac4e0791-2b1f-45ec-99a4-cc1260655f64",
   "metadata": {},
   "source": [
    "##  Method 2:(Using Piechart)"
   ]
  },
  {
   "cell_type": "code",
   "execution_count": 93,
   "id": "0b929f26-ee49-4cec-b7a4-10899936051b",
   "metadata": {},
   "outputs": [
    {
     "data": {
      "image/png": "[encoded data removed]",
      "text/plain": [
       "<Figure size 800x800 with 1 Axes>"
      ]
     },
     "metadata": {},
     "output_type": "display_data"
    }
   ],
   "source": [
    "#Step 1: Strip White spaces from column names\n",
    "df.coumns = df.columns.str.strip()\n",
    "\n",
    "#Step 2: Sort by revenue per member \n",
    "Top_Perfomers =df.sort_values(by='revenue_per_member', ascending = False)\n",
    "\n",
    "#Step 3: Prepare Data for pie chart\n",
    "labels = Top_perfomers['artist_name']\n",
    "sizes = Top_perfomers['revenue_per_member']\n",
    "colors = sns.color_palette('Dark2', len(labels))\n",
    "\n",
    "#Step 4: Create pie chart\n",
    "plt.figure(figsize=(8,8))\n",
    "plt.pie(\n",
    "    sizes,\n",
    "    labels=labels,\n",
    "    colors=colors   \n",
    ")\n",
    "\n",
    "#Step 5 :Customize the Plot\n",
    "plt.title(\"Revenue per Member Distribution by Artist\", fontsize=14, fontweight='bold')\n",
    "plt.legend(title='Genre')\n",
    "plt.tight_layout()\n",
    "plt.savefig(\"Revenue_per_Member.png\", dpi = 300, bbox_inches='tight')\n",
    "plt.show()"
   ]
  },
  {
   "cell_type": "markdown",
   "id": "384d6145-4c4c-4ad4-b1e5-e4b70882f76f",
   "metadata": {},
   "source": [
    "## 5. Locating the Visuals "
   ]
  },
  {
   "cell_type": "code",
   "execution_count": 73,
   "id": "d0465c82-99a1-4117-966f-7a3e036ba2a0",
   "metadata": {},
   "outputs": [
    {
     "name": "stdout",
     "output_type": "stream",
     "text": [
      "D:\\SQL  PRACTICE\\music_concert\\top performing Artists\n"
     ]
    }
   ],
   "source": [
    "import os\n",
    "print(os.getcwd())"
   ]
  },
  {
   "cell_type": "code",
   "execution_count": null,
   "id": "3a43cd2e-0a6f-4e85-80ae-2b7b87eced72",
   "metadata": {},
   "outputs": [],
   "source": []
  }
 ],
 "metadata": {
  "kernelspec": {
   "display_name": "Python 3 (ipykernel)",
   "language": "python",
   "name": "python3"
  },
  "language_info": {
   "codemirror_mode": {
    "name": "ipython",
    "version": 3
   },
   "file_extension": ".py",
   "mimetype": "text/x-python",
   "name": "python",
   "nbconvert_exporter": "python",
   "pygments_lexer": "ipython3",
   "version": "3.12.1"
  }
 },
 "nbformat": 4,
 "nbformat_minor": 5
}
