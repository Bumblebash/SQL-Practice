{
 "cells": [
  {
   "cell_type": "markdown",
   "id": "a6759a32-00f8-44db-9df3-9c25c5ea9641",
   "metadata": {},
   "source": [
    "# Objectives and Project Plan\n",
    "- **Objective:** Realise the top-Perfoming genres by concerts Count.\n",
    "  ## Project Plan\n",
    "   - Read data into DataFrame\n",
    "   - Inspection of Data\n",
    "   - Plotting Top Perfoming Genres by Concert Count\n",
    "   - Locating the Image(Visualizations)\n"
   ]
  },
  {
   "cell_type": "code",
   "execution_count": 1,
   "id": "253e6af8-1295-4d56-8814-cdcab5e05de7",
   "metadata": {},
   "outputs": [],
   "source": [
    "import pandas as pd\n",
    "import numpy as np\n",
    "import matplotlib.pyplot as plt \n",
    "import seaborn as sns"
   ]
  },
  {
   "cell_type": "markdown",
   "id": "a7acd84a-f1ec-4d35-b147-40203c5db608",
   "metadata": {},
   "source": [
    "## 1. Read data into dataframe"
   ]
  },
  {
   "cell_type": "code",
   "execution_count": 2,
   "id": "5aa1fcc9-748d-4a16-b6cd-cfa31439eaef",
   "metadata": {},
   "outputs": [],
   "source": [
    "df = pd.read_csv(\"Best Perfoming Genres .csv\")"
   ]
  },
  {
   "cell_type": "markdown",
   "id": "b5e70a0c-dda4-4024-9741-5ea00da2879c",
   "metadata": {},
   "source": [
    "##  2. Inspection of Data"
   ]
  },
  {
   "cell_type": "code",
   "execution_count": 5,
   "id": "c1e56456-ab76-41a3-b3aa-fd7b7c1bd9d9",
   "metadata": {
    "scrolled": true
   },
   "outputs": [
    {
     "data": {
      "text/html": [
       "<div>\n",
       "<style scoped>\n",
       "    .dataframe tbody tr th:only-of-type {\n",
       "        vertical-align: middle;\n",
       "    }\n",
       "\n",
       "    .dataframe tbody tr th {\n",
       "        vertical-align: top;\n",
       "    }\n",
       "\n",
       "    .dataframe thead th {\n",
       "        text-align: right;\n",
       "    }\n",
       "</style>\n",
       "<table border=\"1\" class=\"dataframe\">\n",
       "  <thead>\n",
       "    <tr style=\"text-align: right;\">\n",
       "      <th></th>\n",
       "      <th>Average_Concert_Revenue</th>\n",
       "      <th>Total_revenue</th>\n",
       "      <th>Total_Concerts</th>\n",
       "    </tr>\n",
       "  </thead>\n",
       "  <tbody>\n",
       "    <tr>\n",
       "      <th>count</th>\n",
       "      <td>5.000000</td>\n",
       "      <td>5.000000e+00</td>\n",
       "      <td>5.00000</td>\n",
       "    </tr>\n",
       "    <tr>\n",
       "      <th>mean</th>\n",
       "      <td>579430.448200</td>\n",
       "      <td>5.685113e+06</td>\n",
       "      <td>7.80000</td>\n",
       "    </tr>\n",
       "    <tr>\n",
       "      <th>std</th>\n",
       "      <td>65782.894645</td>\n",
       "      <td>5.099238e+06</td>\n",
       "      <td>5.80517</td>\n",
       "    </tr>\n",
       "    <tr>\n",
       "      <th>min</th>\n",
       "      <td>507264.554000</td>\n",
       "      <td>1.784434e+06</td>\n",
       "      <td>3.00000</td>\n",
       "    </tr>\n",
       "    <tr>\n",
       "      <th>25%</th>\n",
       "      <td>540059.928900</td>\n",
       "      <td>2.355894e+06</td>\n",
       "      <td>4.00000</td>\n",
       "    </tr>\n",
       "    <tr>\n",
       "      <th>50%</th>\n",
       "      <td>553494.723300</td>\n",
       "      <td>2.665355e+06</td>\n",
       "      <td>5.00000</td>\n",
       "    </tr>\n",
       "    <tr>\n",
       "      <th>75%</th>\n",
       "      <td>633509.665900</td>\n",
       "      <td>7.975925e+06</td>\n",
       "      <td>10.00000</td>\n",
       "    </tr>\n",
       "    <tr>\n",
       "      <th>max</th>\n",
       "      <td>662823.368900</td>\n",
       "      <td>1.364395e+07</td>\n",
       "      <td>17.00000</td>\n",
       "    </tr>\n",
       "  </tbody>\n",
       "</table>\n",
       "</div>"
      ],
      "text/plain": [
       "       Average_Concert_Revenue  Total_revenue  Total_Concerts\n",
       "count                 5.000000   5.000000e+00         5.00000\n",
       "mean             579430.448200   5.685113e+06         7.80000\n",
       "std               65782.894645   5.099238e+06         5.80517\n",
       "min              507264.554000   1.784434e+06         3.00000\n",
       "25%              540059.928900   2.355894e+06         4.00000\n",
       "50%              553494.723300   2.665355e+06         5.00000\n",
       "75%              633509.665900   7.975925e+06        10.00000\n",
       "max              662823.368900   1.364395e+07        17.00000"
      ]
     },
     "execution_count": 5,
     "metadata": {},
     "output_type": "execute_result"
    }
   ],
   "source": [
    "df.describe()"
   ]
  },
  {
   "cell_type": "code",
   "execution_count": 3,
   "id": "6a69a41b-4a84-4e7d-b755-2e5fad66be9c",
   "metadata": {},
   "outputs": [
    {
     "data": {
      "text/html": [
       "<div>\n",
       "<style scoped>\n",
       "    .dataframe tbody tr th:only-of-type {\n",
       "        vertical-align: middle;\n",
       "    }\n",
       "\n",
       "    .dataframe tbody tr th {\n",
       "        vertical-align: top;\n",
       "    }\n",
       "\n",
       "    .dataframe thead th {\n",
       "        text-align: right;\n",
       "    }\n",
       "</style>\n",
       "<table border=\"1\" class=\"dataframe\">\n",
       "  <thead>\n",
       "    <tr style=\"text-align: right;\">\n",
       "      <th></th>\n",
       "      <th>Genre</th>\n",
       "      <th>Average_Concert_Revenue</th>\n",
       "      <th>Total_revenue</th>\n",
       "      <th>Total_Concerts</th>\n",
       "    </tr>\n",
       "  </thead>\n",
       "  <tbody>\n",
       "    <tr>\n",
       "      <th>0</th>\n",
       "      <td>Hip-Hop</td>\n",
       "      <td>507264.5540</td>\n",
       "      <td>1784434.42</td>\n",
       "      <td>3</td>\n",
       "    </tr>\n",
       "    <tr>\n",
       "      <th>1</th>\n",
       "      <td>K-Pop</td>\n",
       "      <td>662823.3689</td>\n",
       "      <td>7975925.02</td>\n",
       "      <td>10</td>\n",
       "    </tr>\n",
       "    <tr>\n",
       "      <th>2</th>\n",
       "      <td>Pop</td>\n",
       "      <td>633509.6659</td>\n",
       "      <td>13643954.88</td>\n",
       "      <td>17</td>\n",
       "    </tr>\n",
       "    <tr>\n",
       "      <th>3</th>\n",
       "      <td>R&amp;B</td>\n",
       "      <td>540059.9289</td>\n",
       "      <td>2355894.21</td>\n",
       "      <td>4</td>\n",
       "    </tr>\n",
       "    <tr>\n",
       "      <th>4</th>\n",
       "      <td>R&amp;B/Pop</td>\n",
       "      <td>553494.7233</td>\n",
       "      <td>2665354.55</td>\n",
       "      <td>5</td>\n",
       "    </tr>\n",
       "  </tbody>\n",
       "</table>\n",
       "</div>"
      ],
      "text/plain": [
       "    Genre   Average_Concert_Revenue  Total_revenue  Total_Concerts\n",
       "0  Hip-Hop              507264.5540     1784434.42               3\n",
       "1    K-Pop              662823.3689     7975925.02              10\n",
       "2      Pop              633509.6659    13643954.88              17\n",
       "3      R&B              540059.9289     2355894.21               4\n",
       "4  R&B/Pop              553494.7233     2665354.55               5"
      ]
     },
     "execution_count": 3,
     "metadata": {},
     "output_type": "execute_result"
    }
   ],
   "source": [
    "df.head()"
   ]
  },
  {
   "cell_type": "code",
   "execution_count": 8,
   "id": "ea6458a1-3ccd-4449-8e75-16e979f169e1",
   "metadata": {},
   "outputs": [
    {
     "name": "stdout",
     "output_type": "stream",
     "text": [
      "<class 'pandas.core.frame.DataFrame'>\n",
      "RangeIndex: 5 entries, 0 to 4\n",
      "Data columns (total 4 columns):\n",
      " #   Column                   Non-Null Count  Dtype  \n",
      "---  ------                   --------------  -----  \n",
      " 0   Genre                    5 non-null      object \n",
      " 1   Average_Concert_Revenue  5 non-null      float64\n",
      " 2   Total_revenue            5 non-null      float64\n",
      " 3   Total_Concerts           5 non-null      int64  \n",
      "dtypes: float64(2), int64(1), object(1)\n",
      "memory usage: 292.0+ bytes\n"
     ]
    }
   ],
   "source": [
    "df.info()"
   ]
  },
  {
   "cell_type": "markdown",
   "id": "3f458e95-bb21-4e1b-a362-75a368631dc6",
   "metadata": {},
   "source": [
    "## 3.  Plotting Top Perfoming Genres By Concert Count"
   ]
  },
  {
   "cell_type": "code",
   "execution_count": 17,
   "id": "f7263925-4391-48b6-abce-71e303c5408a",
   "metadata": {},
   "outputs": [
    {
     "name": "stderr",
     "output_type": "stream",
     "text": [
      "C:\\Users\\User\\AppData\\Local\\Temp\\ipykernel_22572\\183237353.py:6: FutureWarning: \n",
      "\n",
      "Passing `palette` without assigning `hue` is deprecated and will be removed in v0.14.0. Assign the `x` variable to `hue` and set `legend=False` for the same effect.\n",
      "\n",
      "  sns.barplot(data=df, x ='Genre', y ='Total_Concerts', palette = 'crest')\n"
     ]
    },
    {
     "data": {
      "image/png": "[encoded data removed]",
      "text/plain": [
       "<Figure size 1000x600 with 1 Axes>"
      ]
     },
     "metadata": {},
     "output_type": "display_data"
    }
   ],
   "source": [
    "#Stripping WhiteSpaces from Column Names \n",
    "df.columns = df.columns.str.strip()\n",
    "df = df.sort_values(by = 'Total_Concerts', ascending=False)\n",
    "#Visualization\n",
    "plt.figure(figsize=(10,6))\n",
    "sns.barplot(data=df, x ='Genre', y ='Total_Concerts', palette = 'crest')\n",
    "\n",
    "#Add labels and Title\n",
    "plt.title(\"Top Perfoming Genres by Above Concert Count\", fontsize = 14, fontweight='bold')\n",
    "plt.xlabel(\"Genre\", fontsize=12)\n",
    "plt.ylabel(\"Total Number of Concerts\", fontsize = 12)\n",
    "plt.xticks(rotation=30)\n",
    "plt.tight_layout()\n",
    "\n",
    "#Saving and Displaying\n",
    "plt.savefig(\"Top Perfoming Genres By Concert Count.png\", dpi=300, bbox_inches='tight')\n",
    "plt.show()"
   ]
  },
  {
   "cell_type": "markdown",
   "id": "c9a1cc7c-77b8-43b9-b018-2755d5cda2a9",
   "metadata": {},
   "source": [
    "## 4.  Locating the Image"
   ]
  },
  {
   "cell_type": "code",
   "execution_count": 19,
   "id": "ab0bcb01-deb1-44cc-a45b-ec20bcdb2b53",
   "metadata": {},
   "outputs": [
    {
     "name": "stdout",
     "output_type": "stream",
     "text": [
      "D:\\SQL  PRACTICE\\music_concert\n"
     ]
    }
   ],
   "source": [
    "import os\n",
    "print(os.getcwd())"
   ]
  },
  {
   "cell_type": "code",
   "execution_count": null,
   "id": "6392e313-3b7e-4276-8088-dc99ce041f87",
   "metadata": {},
   "outputs": [],
   "source": []
  }
 ],
 "metadata": {
  "kernelspec": {
   "display_name": "Python 3 (ipykernel)",
   "language": "python",
   "name": "python3"
  },
  "language_info": {
   "codemirror_mode": {
    "name": "ipython",
    "version": 3
   },
   "file_extension": ".py",
   "mimetype": "text/x-python",
   "name": "python",
   "nbconvert_exporter": "python",
   "pygments_lexer": "ipython3",
   "version": "3.12.1"
  }
 },
 "nbformat": 4,
 "nbformat_minor": 5
}
